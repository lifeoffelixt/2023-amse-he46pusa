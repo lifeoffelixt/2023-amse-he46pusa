{
 "cells": [
  {
   "cell_type": "code",
   "execution_count": 1,
   "metadata": {},
   "outputs": [
    {
     "name": "stdout",
     "output_type": "stream",
     "text": [
      "Requirement already satisfied: requests in /usr/local/anaconda3/envs/SAMSE_3.8/lib/python3.8/site-packages (2.29.0)\n",
      "Requirement already satisfied: idna<4,>=2.5 in /usr/local/anaconda3/envs/SAMSE_3.8/lib/python3.8/site-packages (from requests) (3.4)\n",
      "Requirement already satisfied: certifi>=2017.4.17 in /usr/local/anaconda3/envs/SAMSE_3.8/lib/python3.8/site-packages (from requests) (2022.12.7)\n",
      "Requirement already satisfied: urllib3<1.27,>=1.21.1 in /usr/local/anaconda3/envs/SAMSE_3.8/lib/python3.8/site-packages (from requests) (1.26.15)\n",
      "Requirement already satisfied: charset-normalizer<4,>=2 in /usr/local/anaconda3/envs/SAMSE_3.8/lib/python3.8/site-packages (from requests) (2.0.4)\n",
      "Note: you may need to restart the kernel to use updated packages.\n"
     ]
    }
   ],
   "source": [
    "%pip install requests"
   ]
  },
  {
   "attachments": {},
   "cell_type": "markdown",
   "metadata": {},
   "source": [
    "# Download Crashdata from 2017 to 2019"
   ]
  },
  {
   "cell_type": "code",
   "execution_count": 2,
   "metadata": {},
   "outputs": [
    {
     "name": "stdout",
     "output_type": "stream",
     "text": [
      "File ../data/Unfallorte2017/Unfallorte2017_EPSG25832_CSV.zip downloaded successfully!\n",
      "File ../data/Unfallorte2017/Unfallorte2017_EPSG25832_CSV.zip extracted successfully!\n",
      "File ../data/Unfallorte2018/Unfallorte2018_EPSG25832_CSV.zip downloaded successfully!\n",
      "File ../data/Unfallorte2018/Unfallorte2018_EPSG25832_CSV.zip extracted successfully!\n",
      "File ../data/Unfallorte2019/Unfallorte2019_EPSG25832_CSV.zip downloaded successfully!\n",
      "File ../data/Unfallorte2019/Unfallorte2019_EPSG25832_CSV.zip extracted successfully!\n"
     ]
    }
   ],
   "source": [
    "import os\n",
    "import requests\n",
    "import zipfile\n",
    "\n",
    "url_list = [\n",
    "    \"https://www.opengeodata.nrw.de/produkte/transport_verkehr/unfallatlas/Unfallorte2017_EPSG25832_CSV.zip\",\n",
    "    \"https://www.opengeodata.nrw.de/produkte/transport_verkehr/unfallatlas/Unfallorte2018_EPSG25832_CSV.zip\",\n",
    "    \"https://www.opengeodata.nrw.de/produkte/transport_verkehr/unfallatlas/Unfallorte2019_EPSG25832_CSV.zip\"\n",
    "]\n",
    "\n",
    "directory = \"../data\"\n",
    "if not os.path.exists(directory):\n",
    "    os.makedirs(directory)\n",
    "\n",
    "for url in url_list:\n",
    "    file_name = url.split(\"/\")[-1]\n",
    "    year = file_name[10:14]\n",
    "    subdirectory = os.path.join(directory, f\"Unfallorte{year}\")\n",
    "    if not os.path.exists(subdirectory):\n",
    "        os.makedirs(subdirectory)\n",
    "    \n",
    "    file_path = os.path.join(subdirectory, file_name)\n",
    "    \n",
    "    response = requests.get(url)\n",
    "    if response.status_code == 200:\n",
    "        with open(file_path, 'wb') as file:\n",
    "            file.write(response.content)\n",
    "        print(f\"File {file_path} downloaded successfully!\")\n",
    "        \n",
    "        # Unzip the downloaded file\n",
    "        with zipfile.ZipFile(file_path, 'r') as zip_ref:\n",
    "            zip_ref.extractall(subdirectory)\n",
    "        print(f\"File {file_path} extracted successfully!\")\n",
    "    else:\n",
    "        print(f\"Failed to download {file_name}. Status code: {response.status_code}\")"
   ]
  },
  {
   "attachments": {},
   "cell_type": "markdown",
   "metadata": {},
   "source": [
    "# Download Weatherdata"
   ]
  },
  {
   "cell_type": "code",
   "execution_count": 3,
   "metadata": {},
   "outputs": [
    {
     "name": "stdout",
     "output_type": "stream",
     "text": [
      "\u001b[1m\u001b[90m[WeatherData] \u001b[39m\u001b[22m\u001b[4mOverview:\u001b[24m\n",
      "\tBlocks (7 blocks with 1 pipes):\n",
      "\t -> WeatherExtractor (HttpExtractor)\n",
      "\t\t -> WeatherTextFileInterpreter (TextFileInterpreter)\n",
      "\t\t\t -> WeatherCSVInterpreter (CSVInterpreter)\n",
      "\t\t\t\t -> WeatherHeaderWriter1 (CellWriter)\n",
      "\t\t\t\t\t -> WeatherHeaderWriter2 (CellWriter)\n",
      "\t\t\t\t\t\t -> WeatherTableInterpreter (TableInterpreter)\n",
      "\t\t\t\t\t\t\t -> WeatherLoader (SQLiteLoader)\n",
      "\n"
     ]
    }
   ],
   "source": [
    "!jv weatherdata.jv"
   ]
  },
  {
   "attachments": {},
   "cell_type": "markdown",
   "metadata": {},
   "source": [
    "# Add Crashdata to data.sqlite"
   ]
  },
  {
   "cell_type": "code",
   "execution_count": 4,
   "metadata": {},
   "outputs": [
    {
     "name": "stdout",
     "output_type": "stream",
     "text": [
      "Table 'Unfallorte2017' created successfully.\n",
      "Data from '../data/Unfallorte2017/csv/Unfallorte2017_LinRef.txt' inserted into table 'Unfallorte2017'.\n",
      "Table 'Unfallorte2018' created successfully.\n",
      "Data from '../data/Unfallorte2018/csv/Unfallorte2018_LinRef.txt' inserted into table 'Unfallorte2018'.\n",
      "Table 'Unfallorte2019' created successfully.\n",
      "Data from '../data/Unfallorte2019/csv/Unfallorte2019_LinRef.txt' inserted into table 'Unfallorte2019'.\n"
     ]
    }
   ],
   "source": [
    "import os\n",
    "import sqlite3\n",
    "import csv\n",
    "import configparser\n",
    "\n",
    "# Specify the path to the data directory and the database file\n",
    "data_directory = \"../data\"\n",
    "database_file = os.path.join(data_directory, \"data.sqlite\")\n",
    "\n",
    "# Connect to the SQLite database\n",
    "conn = sqlite3.connect(database_file)\n",
    "cursor = conn.cursor()\n",
    "\n",
    "# Iterate through the folders in the data directory\n",
    "for year in range(2017, 2020):\n",
    "    folder_name = f\"Unfallorte{year}\"\n",
    "    folder_path = os.path.join(data_directory, folder_name)\n",
    "    csv_folder_path = os.path.join(folder_path, \"csv\")\n",
    "\n",
    "    # Check if the folder exists\n",
    "    if os.path.isdir(folder_path):\n",
    "        table_name = f\"Unfallorte{year}\"\n",
    "\n",
    "        # Read the schema.ini file to extract the column names\n",
    "        schema_ini_path = os.path.join(csv_folder_path, \"schema.ini\")\n",
    "        config = configparser.ConfigParser()\n",
    "        config.read(schema_ini_path)\n",
    "\n",
    "        # Get the column names from the schema.ini file using the table name as the key\n",
    "        column_names = []\n",
    "        for key, value in config[f\"{table_name}_LinRef.txt\"].items():\n",
    "            if key.lower().startswith(\"col\") and key.lower() != \"colnameheader\":\n",
    "                column_name = value.split()[0]\n",
    "                column_names.append(column_name)\n",
    "\n",
    "        # Create a table with the folder name as the table name\n",
    "        create_table_query = f\"CREATE TABLE IF NOT EXISTS {table_name} ({', '.join(column_names)})\"\n",
    "        cursor.execute(create_table_query)\n",
    "        print(f\"Table '{table_name}' created successfully.\")\n",
    "\n",
    "        # Read the TXT file within the csv folder and insert data into the table\n",
    "        txt_file_path = os.path.join(csv_folder_path, f\"{table_name}_LinRef.txt\")\n",
    "        with open(txt_file_path, newline='') as file:\n",
    "            csv_reader = csv.reader(file, delimiter=';')\n",
    "            next(csv_reader)  # Skip the header row if present\n",
    "            for row in csv_reader:\n",
    "                insert_query = f\"INSERT INTO {table_name} ({', '.join(column_names)}) VALUES ({', '.join(['?'] * len(column_names))})\"\n",
    "                cursor.execute(insert_query, row)\n",
    "\n",
    "        print(f\"Data from '{txt_file_path}' inserted into table '{table_name}'.\")\n",
    "\n",
    "# Commit the changes and close the database connection\n",
    "conn.commit()\n",
    "conn.close()\n"
   ]
  }
 ],
 "metadata": {
  "kernelspec": {
   "display_name": "SAMSE_3.8",
   "language": "python",
   "name": "python3"
  },
  "language_info": {
   "codemirror_mode": {
    "name": "ipython",
    "version": 3
   },
   "file_extension": ".py",
   "mimetype": "text/x-python",
   "name": "python",
   "nbconvert_exporter": "python",
   "pygments_lexer": "ipython3",
   "version": "3.8.16"
  },
  "orig_nbformat": 4
 },
 "nbformat": 4,
 "nbformat_minor": 2
}
